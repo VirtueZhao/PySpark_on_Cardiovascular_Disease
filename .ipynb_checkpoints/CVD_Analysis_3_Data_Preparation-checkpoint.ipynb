{
 "cells": [
  {
   "cell_type": "code",
   "execution_count": null,
   "metadata": {},
   "outputs": [],
   "source": [
    "import csv\n",
    "import pandas as pd\n",
    "import matplotlib.pyplot as plt"
   ]
  },
  {
   "cell_type": "code",
   "execution_count": null,
   "metadata": {},
   "outputs": [],
   "source": [
    "cardio_data = pd.read_csv('cardio_train_new.csv')\n",
    "cardio_data = cardio_data.drop('id',axis=1)\n",
    "print(cardio_data.dtypes)"
   ]
  },
  {
   "cell_type": "code",
   "execution_count": null,
   "metadata": {},
   "outputs": [],
   "source": [
    "cardio_data.dropna(inplace=True)\n",
    "print(cardio_data.describe())"
   ]
  },
  {
   "cell_type": "code",
   "execution_count": null,
   "metadata": {},
   "outputs": [],
   "source": [
    "plt.boxplot(cardio_data.age)"
   ]
  },
  {
   "cell_type": "code",
   "execution_count": null,
   "metadata": {},
   "outputs": [],
   "source": [
    "plt.boxplot(cardio_data.height)"
   ]
  },
  {
   "cell_type": "code",
   "execution_count": null,
   "metadata": {},
   "outputs": [],
   "source": [
    "plt.boxplot(cardio_data.weight)"
   ]
  },
  {
   "cell_type": "code",
   "execution_count": null,
   "metadata": {},
   "outputs": [],
   "source": [
    "plt.boxplot(cardio_data.ap_hi)"
   ]
  },
  {
   "cell_type": "code",
   "execution_count": null,
   "metadata": {},
   "outputs": [],
   "source": [
    "plt.boxplot(cardio_data.ap_lo)"
   ]
  },
  {
   "cell_type": "code",
   "execution_count": null,
   "metadata": {},
   "outputs": [],
   "source": [
    "cardio_data = cardio_data.loc[cardio_data.ap_hi <= 220]\n",
    "cardio_data = cardio_data.loc[cardio_data.ap_hi >= 40]\n",
    "cardio_data = cardio_data.loc[cardio_data.ap_lo <= 220]\n",
    "cardio_data = cardio_data.loc[cardio_data.ap_lo >= 40]\n",
    "cardio_data.shape"
   ]
  },
  {
   "cell_type": "code",
   "execution_count": null,
   "metadata": {},
   "outputs": [],
   "source": [
    "plt.boxplot(cardio_data.ap_hi)"
   ]
  },
  {
   "cell_type": "code",
   "execution_count": null,
   "metadata": {},
   "outputs": [],
   "source": [
    "plt.boxplot(cardio_data.ap_lo)"
   ]
  },
  {
   "cell_type": "code",
   "execution_count": null,
   "metadata": {},
   "outputs": [],
   "source": [
    "file_1_path = \"cardio_train_1.csv\"\n",
    "file_2_path = \"cardio_train_2.csv\"\n",
    "\n",
    "data_list = []\n",
    "with open('cardio_train_1.csv') as csv_file:\n",
    "    csv_reader = csv.reader(csv_file, delimiter=',')\n",
    "    next(csv_reader)\n",
    "    for row in csv_reader:\n",
    "        temp_row = row[0].split(';')\n",
    "        data_list.append(temp_row)\n",
    "with open('cardio_train_2.csv') as csv_file:\n",
    "    csv_reader = csv.reader(csv_file, delimiter=',')\n",
    "    for row in csv_reader:\n",
    "        temp_row = row[0].split(';')\n",
    "        data_list.append(temp_row)\n",
    "\n",
    "with open ('cardio_train_new.csv', mode='w', newline=\"\") as csv_file:\n",
    "    csv_writer = csv.writer(csv_file)\n",
    "    csv_writer.writerow(['id', 'age', 'gender', 'height', 'weight', 'ap_hi', 'ap_lo', 'cholesterol', 'gluc', 'smoke', 'alco', 'active', 'cardio'])\n",
    "    for row in data_list:\n",
    "        id = row[0]\n",
    "        age = row[1]\n",
    "        gender = row[2]\n",
    "        height = row[3]\n",
    "        weight = row[4]\n",
    "        ap_hi = row[5]\n",
    "        ap_lo = row[6]\n",
    "        cholesterol = row[7]\n",
    "        gluc = row[8]\n",
    "        smoke = row[9]\n",
    "        alco = row[10]\n",
    "        active = row[11]\n",
    "        cardio = row[12]\n",
    "        csv_writer.writerow([id, age, gender, height, weight, ap_hi, ap_lo, cholesterol, gluc, smoke, alco, active, cardio])\n"
   ]
  },
  {
   "cell_type": "code",
   "execution_count": null,
   "metadata": {},
   "outputs": [],
   "source": [
    "cardio_data.gender= cardio_data.gender.astype('category')\n",
    "cardio_data.height = cardio_data.height.astype('float64')\n",
    "cardio_data.ap_hi = cardio_data.ap_hi.astype('float64')\n",
    "cardio_data.ap_lo = cardio_data.ap_lo.astype('float64')\n",
    "cardio_data.cholesterol = cardio_data.cholesterol.astype('category')\n",
    "cardio_data.gluc = cardio_data.gluc.astype('category')\n",
    "cardio_data.smoke = cardio_data.smoke.astype('bool')\n",
    "cardio_data.alco = cardio_data.alco.astype('bool')\n",
    "cardio_data.active = cardio_data.active.astype('bool')\n",
    "cardio_data.cardio = cardio_data.cardio.astype('bool')"
   ]
  },
  {
   "cell_type": "code",
   "execution_count": null,
   "metadata": {},
   "outputs": [],
   "source": [
    "cardio_data.dtypes"
   ]
  }
 ],
 "metadata": {
  "kernelspec": {
   "display_name": "Python 3",
   "language": "python",
   "name": "python3"
  },
  "language_info": {
   "codemirror_mode": {
    "name": "ipython",
    "version": 3
   },
   "file_extension": ".py",
   "mimetype": "text/x-python",
   "name": "python",
   "nbconvert_exporter": "python",
   "pygments_lexer": "ipython3",
   "version": "3.6.8"
  }
 },
 "nbformat": 4,
 "nbformat_minor": 2
}
