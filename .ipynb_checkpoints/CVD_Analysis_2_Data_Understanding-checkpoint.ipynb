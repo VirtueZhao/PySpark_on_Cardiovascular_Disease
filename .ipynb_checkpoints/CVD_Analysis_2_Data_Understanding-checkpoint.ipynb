{
 "cells": [
  {
   "cell_type": "code",
   "execution_count": null,
   "metadata": {},
   "outputs": [],
   "source": [
    "import pandas as pd\n",
    "import numpy as np\n",
    "import matplotlib.pyplot as plt"
   ]
  },
  {
   "cell_type": "code",
   "execution_count": null,
   "metadata": {},
   "outputs": [],
   "source": [
    "cardio_data = pd.read_csv('cardio_train_new.csv')\n",
    "cardio_data"
   ]
  },
  {
   "cell_type": "code",
   "execution_count": null,
   "metadata": {},
   "outputs": [],
   "source": [
    "cardio_data.dtypes"
   ]
  },
  {
   "cell_type": "code",
   "execution_count": null,
   "metadata": {},
   "outputs": [],
   "source": [
    "plt.hist(cardio_data.cardio)"
   ]
  },
  {
   "cell_type": "code",
   "execution_count": null,
   "metadata": {},
   "outputs": [],
   "source": [
    "print(\"age\")\n",
    "print(\"Count: \" + str(len(cardio_data.age)))\n",
    "print(\"Min: \" + str(np.nanmin(cardio_data.age)))\n",
    "print(\"Max: \" + str(np.nanmax(cardio_data.age)))\n",
    "print(\"Range: \" + str(np.nanmax(cardio_data.age) - np.nanmin(cardio_data.age)))\n",
    "print(\"Variance: \" + str(np.nanvar(cardio_data.age)))\n",
    "print(\"Standard Deviation: \" + str(np.nanstd(cardio_data.age)))"
   ]
  },
  {
   "cell_type": "code",
   "execution_count": null,
   "metadata": {},
   "outputs": [],
   "source": [
    "print(\"height\")\n",
    "print(\"Count: \" + str(len(cardio_data.height)))\n",
    "print(\"Min: \" + str(np.nanmin(cardio_data.height)))\n",
    "print(\"Max: \" + str(np.nanmax(cardio_data.height)))\n",
    "print(\"Range: \" + str(np.nanmax(cardio_data.height) - np.nanmin(cardio_data.height)))\n",
    "print(\"Variance: \" + str(np.nanvar(cardio_data.height)))\n",
    "print(\"Standard Deviation: \" + str(np.nanstd(cardio_data.height)))"
   ]
  },
  {
   "cell_type": "code",
   "execution_count": null,
   "metadata": {},
   "outputs": [],
   "source": [
    "print(\"weight\")\n",
    "print(\"Count: \" + str(len(cardio_data.weight)))\n",
    "print(\"Min: \" + str(np.nanmin(cardio_data.weight)))\n",
    "print(\"Max: \" + str(np.nanmax(cardio_data.weight)))\n",
    "print(\"Range: \" + str(np.nanmax(cardio_data.weight) - np.nanmin(cardio_data.weight)))\n",
    "print(\"Variance: \" + str(np.nanvar(cardio_data.weight)))\n",
    "print(\"Standard Deviation: \" + str(np.nanstd(cardio_data.weight)))"
   ]
  },
  {
   "cell_type": "code",
   "execution_count": null,
   "metadata": {},
   "outputs": [],
   "source": [
    "print(\"ap_hi\")\n",
    "print(\"Count: \" + str(len(cardio_data.ap_hi)))\n",
    "print(\"Min: \" + str(np.nanmin(cardio_data.ap_hi)))\n",
    "print(\"Max: \" + str(np.nanmax(cardio_data.ap_hi)))\n",
    "print(\"Range: \" + str(np.nanmax(cardio_data.ap_hi) - np.nanmin(cardio_data.ap_hi)))\n",
    "print(\"Variance: \" + str(np.nanvar(cardio_data.ap_hi)))\n",
    "print(\"Standard Deviation: \" + str(np.nanstd(cardio_data.ap_hi)))"
   ]
  },
  {
   "cell_type": "code",
   "execution_count": null,
   "metadata": {},
   "outputs": [],
   "source": [
    "print(\"ap_lo\")\n",
    "print(\"Count: \" + str(len(cardio_data.ap_lo)))\n",
    "print(\"Min: \" + str(np.nanmin(cardio_data.ap_lo)))\n",
    "print(\"Max: \" + str(np.nanmax(cardio_data.ap_lo)))\n",
    "print(\"Range: \" + str(np.nanmax(cardio_data.ap_lo) - np.nanmin(cardio_data.ap_lo)))\n",
    "print(\"Variance: \" + str(np.nanvar(cardio_data.ap_lo)))\n",
    "print(\"Standard Deviation: \" + str(np.nanstd(cardio_data.ap_lo)))"
   ]
  },
  {
   "cell_type": "code",
   "execution_count": null,
   "metadata": {},
   "outputs": [],
   "source": [
    "plt.hist(cardio_data.smoke)"
   ]
  },
  {
   "cell_type": "code",
   "execution_count": null,
   "metadata": {},
   "outputs": [],
   "source": [
    "plt.hist(cardio_data.alco)"
   ]
  },
  {
   "cell_type": "code",
   "execution_count": null,
   "metadata": {},
   "outputs": [],
   "source": [
    "plt.hist(cardio_data.cholesterol)"
   ]
  },
  {
   "cell_type": "code",
   "execution_count": null,
   "metadata": {},
   "outputs": [],
   "source": [
    "plt.hist(cardio_data.gluc)"
   ]
  },
  {
   "cell_type": "code",
   "execution_count": null,
   "metadata": {},
   "outputs": [],
   "source": [
    "plt.hist(cardio_data.active)"
   ]
  },
  {
   "cell_type": "code",
   "execution_count": null,
   "metadata": {},
   "outputs": [],
   "source": [
    "plt.hist(cardio_data.gender)"
   ]
  },
  {
   "cell_type": "code",
   "execution_count": null,
   "metadata": {},
   "outputs": [],
   "source": [
    "cardio_data.describe()"
   ]
  },
  {
   "cell_type": "code",
   "execution_count": null,
   "metadata": {},
   "outputs": [],
   "source": [
    "cardio_data.info()"
   ]
  },
  {
   "cell_type": "code",
   "execution_count": null,
   "metadata": {},
   "outputs": [],
   "source": [
    "cardio_data.isnull()"
   ]
  }
 ],
 "metadata": {
  "kernelspec": {
   "display_name": "Python 3",
   "language": "python",
   "name": "python3"
  },
  "language_info": {
   "codemirror_mode": {
    "name": "ipython",
    "version": 3
   },
   "file_extension": ".py",
   "mimetype": "text/x-python",
   "name": "python",
   "nbconvert_exporter": "python",
   "pygments_lexer": "ipython3",
   "version": "3.6.8"
  }
 },
 "nbformat": 4,
 "nbformat_minor": 2
}
