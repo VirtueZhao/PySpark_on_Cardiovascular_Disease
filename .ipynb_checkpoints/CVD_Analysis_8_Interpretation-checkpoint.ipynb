{
 "cells": [
  {
   "cell_type": "code",
   "execution_count": null,
   "metadata": {},
   "outputs": [],
   "source": [
    "import pandas as pd\n",
    "import matplotlib.pyplot as plt\n",
    "from sklearn.model_selection import train_test_split\n",
    "import seaborn as sns\n",
    "\n",
    "pd.set_option('display.max_columns',15)\n",
    "cardio_data = pd.read_csv('cardio_train_new.csv')\n",
    "cardio_data = cardio_data.drop('id',axis=1)\n",
    "cardio_data.dropna(inplace=True)\n",
    "\n",
    "cardio_data = cardio_data.loc[cardio_data.ap_hi <= 220]\n",
    "cardio_data = cardio_data.loc[cardio_data.ap_hi >= 40]\n",
    "cardio_data = cardio_data.loc[cardio_data.ap_lo <= 220]\n",
    "cardio_data = cardio_data.loc[cardio_data.ap_lo >= 40]\n",
    "\n",
    "cardio_data.gender= cardio_data.gender.astype('category')\n",
    "cardio_data.height = cardio_data.height.astype('float64')\n",
    "cardio_data.ap_hi = cardio_data.ap_hi.astype('float64')\n",
    "cardio_data.ap_lo = cardio_data.ap_lo.astype('float64')\n",
    "cardio_data.cholesterol = cardio_data.cholesterol.astype('category')\n",
    "cardio_data.gluc = cardio_data.gluc.astype('category')\n",
    "cardio_data.smoke = cardio_data.smoke.astype('bool')\n",
    "cardio_data.alco = cardio_data.alco.astype('bool')\n",
    "cardio_data.active = cardio_data.active.astype('bool')\n",
    "cardio_data.cardio = cardio_data.cardio.astype('bool')\n",
    "\n",
    "cholesterol = cardio_data.cholesterol\n",
    "new_cholesterol = []\n",
    "for c in cholesterol:\n",
    "    if c == 1:\n",
    "        new_cholesterol.append(1)\n",
    "    else:\n",
    "        new_cholesterol.append(2)\n",
    "cardio_data['new_cholesterol'] = new_cholesterol\n",
    "cardio_data.new_cholesterol = cardio_data.new_cholesterol.astype('category')\n",
    "\n",
    "gluc = cardio_data.gluc\n",
    "new_gluc = []\n",
    "for g in gluc:\n",
    "    if g == 1:\n",
    "        new_gluc.append(1)\n",
    "    else:\n",
    "        new_gluc.append(2)\n",
    "cardio_data['new_gluc'] = new_gluc\n",
    "cardio_data.new_gluc = cardio_data.new_gluc.astype('category')\n",
    "\n",
    "cardio_data = cardio_data.drop('cholesterol', axis=1)\n",
    "cardio_data = cardio_data.drop('gluc', axis=1)"
   ]
  },
  {
   "cell_type": "code",
   "execution_count": null,
   "metadata": {},
   "outputs": [],
   "source": [
    "cardio_data.describe()"
   ]
  },
  {
   "cell_type": "code",
   "execution_count": null,
   "metadata": {},
   "outputs": [],
   "source": [
    "plt.subplot(221)\n",
    "plt.hist(cardio_data.gender)\n",
    "plt.title('Gender Distribution')\n",
    "plt.subplot(222)\n",
    "plt.hist(cardio_data.new_cholesterol)\n",
    "plt.title('New Cholesterol Distribution')\n",
    "plt.subplot(223)\n",
    "plt.hist(cardio_data.new_gluc)\n",
    "plt.title('New Gluc Distribution')"
   ]
  },
  {
   "cell_type": "code",
   "execution_count": null,
   "metadata": {},
   "outputs": [],
   "source": [
    "import pandas as pd\n",
    "from sklearn.model_selection import train_test_split\n",
    "from sklearn.linear_model import LogisticRegression\n",
    "from sklearn.tree import DecisionTreeClassifier\n",
    "from sklearn.ensemble import RandomForestClassifier\n",
    "from sklearn.neural_network import MLPClassifier\n",
    "from sklearn.metrics import accuracy_score\n",
    "\n",
    "cardio_data = pd.read_csv('cardio_train_new.csv')\n",
    "cardio_data = cardio_data.drop('id',axis=1)\n",
    "cardio_data.dropna(inplace=True)\n",
    "\n",
    "cardio_data = cardio_data.loc[cardio_data.ap_hi <= 220]\n",
    "cardio_data = cardio_data.loc[cardio_data.ap_hi >= 40]\n",
    "cardio_data = cardio_data.loc[cardio_data.ap_lo <= 220]\n",
    "cardio_data = cardio_data.loc[cardio_data.ap_lo >= 40]\n",
    "\n",
    "cardio_data.gender= cardio_data.gender.astype('str')\n",
    "cardio_data.height = cardio_data.height.astype('float64')\n",
    "cardio_data.ap_hi = cardio_data.ap_hi.astype('float64')\n",
    "cardio_data.ap_lo = cardio_data.ap_lo.astype('float64')\n",
    "cardio_data.cholesterol = cardio_data.cholesterol.astype('category')\n",
    "cardio_data.gluc = cardio_data.gluc.astype('category')\n",
    "cardio_data.smoke = cardio_data.smoke.astype('bool')\n",
    "cardio_data.alco = cardio_data.alco.astype('bool')\n",
    "cardio_data.active = cardio_data.active.astype('bool')\n",
    "cardio_data.cardio = cardio_data.cardio.astype('int64')\n",
    "\n",
    "cholesterol = cardio_data.cholesterol\n",
    "new_cholesterol = []\n",
    "for c in cholesterol:\n",
    "    if c == 1:\n",
    "        new_cholesterol.append(1)\n",
    "    else:\n",
    "        new_cholesterol.append(2)\n",
    "cardio_data['new_cholesterol'] = new_cholesterol\n",
    "cardio_data.new_cholesterol = cardio_data.new_cholesterol.astype('str')\n",
    "\n",
    "gluc = cardio_data.gluc\n",
    "new_gluc = []\n",
    "for g in gluc:\n",
    "    if g == 1:\n",
    "        new_gluc.append(1)\n",
    "    else:\n",
    "        new_gluc.append(2)\n",
    "cardio_data['new_gluc'] = new_gluc\n",
    "cardio_data.new_gluc = cardio_data.new_gluc.astype('str')\n",
    "\n",
    "cardio_data = cardio_data.drop('cholesterol', axis=1)\n",
    "cardio_data = cardio_data.drop('gluc', axis=1)\n",
    "\n",
    "import findspark\n",
    "findspark.init('/home/ubuntu/spark-2.1.1-bin-hadoop2.7')\n",
    "import pyspark\n",
    "from pyspark.sql import *\n",
    "spark = SparkSession.builder.appName('logistic_regression_adv').getOrCreate()\n",
    "\n",
    "from pyspark.ml.classification import LogisticRegression\n",
    "from pyspark.ml.classification import DecisionTreeClassifier\n",
    "from pyspark.ml.classification import RandomForestClassifier\n",
    "from pyspark.ml.classification import MultilayerPerceptronClassifier\n",
    "\n",
    "cardio_data_pyspark = spark.createDataFrame(cardio_data)\n",
    "\n",
    "from pyspark.ml.feature import VectorAssembler,VectorIndexer,OneHotEncoder,StringIndexer\n",
    "\n",
    "gender_indexer = StringIndexer(inputCol='gender',outputCol='genderIndex')\n",
    "gender_encoder = OneHotEncoder(inputCol='genderIndex',outputCol='genderVec')\n",
    "cholesterol_index = StringIndexer(inputCol='new_cholesterol', outputCol='cholesterolIndex')\n",
    "cholesterol_encoder = OneHotEncoder(inputCol='cholesterolIndex', outputCol='cholesterolVec')\n",
    "gluc_indexer = StringIndexer(inputCol='new_gluc', outputCol='glucIndex')\n",
    "gluc_encoder = OneHotEncoder(inputCol='glucIndex', outputCol='glucVec')\n",
    "\n",
    "assembler = VectorAssembler(inputCols=['age',\n",
    "                                       'genderVec',\n",
    "                                       'height',\n",
    "                                       'weight',\n",
    "                                       'ap_hi',\n",
    "                                       'ap_lo',\n",
    "                                       'smoke',\n",
    "                                       'alco',\n",
    "                                       'active',\n",
    "                                       'cholesterolVec',\n",
    "                                       'glucVec'\n",
    "], outputCol='features')\n",
    "\n",
    "cardio_data_pyspark = gender_indexer.fit(cardio_data_pyspark).transform(cardio_data_pyspark)\n",
    "cardio_data_pyspark = gender_encoder.transform(cardio_data_pyspark)\n",
    "\n",
    "cardio_data_pyspark = cholesterol_index.fit(cardio_data_pyspark).transform(cardio_data_pyspark)\n",
    "cardio_data_pyspark = cholesterol_encoder.transform(cardio_data_pyspark)\n",
    "\n",
    "cardio_data_pyspark = gluc_indexer.fit(cardio_data_pyspark).transform(cardio_data_pyspark)\n",
    "cardio_data_pyspark = gluc_encoder.transform(cardio_data_pyspark)\n",
    "\n",
    "cardio_data_pyspark = assembler.transform(cardio_data_pyspark)\n",
    "\n",
    "train_data, test_data = cardio_data_pyspark.randomSplit([0.8,.2])"
   ]
  },
  {
   "cell_type": "code",
   "execution_count": null,
   "metadata": {},
   "outputs": [],
   "source": [
    "Logistic_model = LogisticRegression(regParam=0, maxIter=100, labelCol='cardio')\n",
    "clf = Logistic_model.fit(train_data)"
   ]
  },
  {
   "cell_type": "code",
   "execution_count": null,
   "metadata": {},
   "outputs": [],
   "source": [
    "print(cardio_data_pyspark.columns)\n",
    "clf.coefficients"
   ]
  },
  {
   "cell_type": "code",
   "execution_count": null,
   "metadata": {},
   "outputs": [],
   "source": [
    "decision_tree_model = DecisionTreeClassifier(impurity='gini', labelCol='cardio')\n",
    "clf = decision_tree_model.fit(train_data)"
   ]
  },
  {
   "cell_type": "code",
   "execution_count": null,
   "metadata": {},
   "outputs": [],
   "source": [
    "print(cardio_data_pyspark.columns)\n",
    "clf.featureImportances"
   ]
  },
  {
   "cell_type": "code",
   "execution_count": null,
   "metadata": {},
   "outputs": [],
   "source": [
    "random_forest_model = RandomForestClassifier(numTrees=10, impurity='gini', labelCol='cardio')\n",
    "clf = random_forest_model.fit(train_data)"
   ]
  },
  {
   "cell_type": "code",
   "execution_count": null,
   "metadata": {},
   "outputs": [],
   "source": [
    "print(cardio_data_pyspark.columns)\n",
    "clf.featureImportances"
   ]
  },
  {
   "cell_type": "code",
   "execution_count": null,
   "metadata": {},
   "outputs": [],
   "source": [
    "plt.scatter(cardio_data.age, cardio_data.cardio)"
   ]
  },
  {
   "cell_type": "code",
   "execution_count": null,
   "metadata": {},
   "outputs": [],
   "source": [
    "data = cardio_data[['gender','cardio']]\n",
    "sns.countplot(x=\"gender\", hue=\"cardio\", data=data)"
   ]
  },
  {
   "cell_type": "code",
   "execution_count": null,
   "metadata": {},
   "outputs": [],
   "source": [
    "plt.scatter(cardio_data.height, cardio_data.cardio)"
   ]
  },
  {
   "cell_type": "code",
   "execution_count": null,
   "metadata": {},
   "outputs": [],
   "source": [
    "plt.scatter(cardio_data.weight, cardio_data.cardio)"
   ]
  },
  {
   "cell_type": "code",
   "execution_count": null,
   "metadata": {},
   "outputs": [],
   "source": [
    "plt.scatter(cardio_data.ap_hi, cardio_data.cardio)"
   ]
  },
  {
   "cell_type": "code",
   "execution_count": null,
   "metadata": {},
   "outputs": [],
   "source": [
    "plt.scatter(cardio_data.ap_lo, cardio_data.cardio)"
   ]
  },
  {
   "cell_type": "code",
   "execution_count": null,
   "metadata": {},
   "outputs": [],
   "source": [
    "data = cardio_data[['smoke','cardio']]\n",
    "sns.countplot(x=\"smoke\", hue=\"cardio\", data=data)"
   ]
  },
  {
   "cell_type": "code",
   "execution_count": null,
   "metadata": {},
   "outputs": [],
   "source": [
    "data = cardio_data[['alco','cardio']]\n",
    "sns.countplot(x=\"alco\", hue=\"cardio\", data=data)"
   ]
  },
  {
   "cell_type": "code",
   "execution_count": null,
   "metadata": {},
   "outputs": [],
   "source": [
    "data = cardio_data[['active','cardio']]\n",
    "sns.countplot(x=\"active\", hue=\"cardio\", data=data)"
   ]
  },
  {
   "cell_type": "code",
   "execution_count": null,
   "metadata": {},
   "outputs": [],
   "source": [
    "data = cardio_data[['new_cholesterol','cardio']]\n",
    "sns.countplot(x=\"new_cholesterol\", hue=\"cardio\", data=data)"
   ]
  },
  {
   "cell_type": "code",
   "execution_count": null,
   "metadata": {},
   "outputs": [],
   "source": [
    "data = cardio_data[['new_gluc','cardio']]\n",
    "sns.countplot(x=\"new_gluc\", hue=\"cardio\", data=data)"
   ]
  },
  {
   "cell_type": "code",
   "execution_count": null,
   "metadata": {},
   "outputs": [],
   "source": []
  },
  {
   "cell_type": "code",
   "execution_count": null,
   "metadata": {},
   "outputs": [],
   "source": [
    "# from sklearn.metrics import precision_score, recall_score, f1_score\n",
    "# Y_pred = logistic_model_1.predict(X_test)\n",
    "# print(\"Precision: \" + str(precision_score(Y_test, Y_pred)))\n",
    "# print(\"Recall: \" + str(recall_score(Y_test, Y_pred)))\n",
    "# print(\"F1 Score: \" + str(f1_score(Y_test, Y_pred)))"
   ]
  }
 ],
 "metadata": {
  "kernelspec": {
   "display_name": "Python 3",
   "language": "python",
   "name": "python3"
  },
  "language_info": {
   "codemirror_mode": {
    "name": "ipython",
    "version": 3
   },
   "file_extension": ".py",
   "mimetype": "text/x-python",
   "name": "python",
   "nbconvert_exporter": "python",
   "pygments_lexer": "ipython3",
   "version": "3.5.2"
  }
 },
 "nbformat": 4,
 "nbformat_minor": 2
}
