{
 "cells": [
  {
   "cell_type": "code",
   "execution_count": 1,
   "metadata": {},
   "outputs": [],
   "source": [
    "import csv\n",
    "import pandas as pd\n",
    "import matplotlib.pyplot as plt"
   ]
  },
  {
   "cell_type": "code",
   "execution_count": 2,
   "metadata": {},
   "outputs": [
    {
     "name": "stdout",
     "output_type": "stream",
     "text": [
      "age            float64\n",
      "gender           int64\n",
      "height           int64\n",
      "weight         float64\n",
      "ap_hi            int64\n",
      "ap_lo            int64\n",
      "cholesterol      int64\n",
      "gluc             int64\n",
      "smoke            int64\n",
      "alco             int64\n",
      "active           int64\n",
      "cardio           int64\n",
      "dtype: object\n"
     ]
    }
   ],
   "source": [
    "cardio_data = pd.read_csv('cardio_train_new.csv')\n",
    "cardio_data = cardio_data.drop('id',axis=1)\n",
    "print(cardio_data.dtypes)"
   ]
  },
  {
   "cell_type": "code",
   "execution_count": 3,
   "metadata": {},
   "outputs": [
    {
     "name": "stdout",
     "output_type": "stream",
     "text": [
      "                age        gender        height        weight         ap_hi  \\\n",
      "count  69997.000000  69997.000000  69997.000000  69997.000000  69997.000000   \n",
      "mean   19468.869780      1.349558    164.359215     74.205485    128.817235   \n",
      "std     2467.271082      0.476834      8.210225     14.395786    154.014683   \n",
      "min    10798.000000      1.000000     55.000000     10.000000   -150.000000   \n",
      "25%    17664.000000      1.000000    159.000000     65.000000    120.000000   \n",
      "50%    19703.000000      1.000000    165.000000     72.000000    120.000000   \n",
      "75%    21327.000000      2.000000    170.000000     82.000000    140.000000   \n",
      "max    23713.000000      2.000000    250.000000    200.000000  16020.000000   \n",
      "\n",
      "              ap_lo   cholesterol          gluc         smoke          alco  \\\n",
      "count  69997.000000  69997.000000  69997.000000  69997.000000  69997.000000   \n",
      "mean      96.630841      1.366859      1.226467      0.088132      0.053774   \n",
      "std      188.476548      0.680234      0.572281      0.283489      0.225572   \n",
      "min      -70.000000      1.000000      1.000000      0.000000      0.000000   \n",
      "25%       80.000000      1.000000      1.000000      0.000000      0.000000   \n",
      "50%       80.000000      1.000000      1.000000      0.000000      0.000000   \n",
      "75%       90.000000      2.000000      1.000000      0.000000      0.000000   \n",
      "max    11000.000000      3.000000      3.000000      1.000000      1.000000   \n",
      "\n",
      "             active        cardio  \n",
      "count  69997.000000  69997.000000  \n",
      "mean       0.803720      0.499707  \n",
      "std        0.397185      0.500003  \n",
      "min        0.000000      0.000000  \n",
      "25%        1.000000      0.000000  \n",
      "50%        1.000000      0.000000  \n",
      "75%        1.000000      1.000000  \n",
      "max        1.000000      1.000000  \n"
     ]
    }
   ],
   "source": [
    "cardio_data.dropna(inplace=True)\n",
    "print(cardio_data.describe())"
   ]
  },
  {
   "cell_type": "code",
   "execution_count": 4,
   "metadata": {},
   "outputs": [
    {
     "data": {
      "text/plain": [
       "{'boxes': [<matplotlib.lines.Line2D at 0x7fd7c6071198>],\n",
       " 'caps': [<matplotlib.lines.Line2D at 0x7fd7c6071ba8>,\n",
       "  <matplotlib.lines.Line2D at 0x7fd7c6071fd0>],\n",
       " 'fliers': [<matplotlib.lines.Line2D at 0x7fd7c6001860>],\n",
       " 'means': [],\n",
       " 'medians': [<matplotlib.lines.Line2D at 0x7fd7c6001438>],\n",
       " 'whiskers': [<matplotlib.lines.Line2D at 0x7fd7c60712e8>,\n",
       "  <matplotlib.lines.Line2D at 0x7fd7c6071780>]}"
      ]
     },
     "execution_count": 4,
     "metadata": {},
     "output_type": "execute_result"
    },
    {
     "data": {
      "image/png": "[encoded data removed]",
      "text/plain": [
       "<Figure size 432x288 with 1 Axes>"
      ]
     },
     "metadata": {},
     "output_type": "display_data"
    }
   ],
   "source": [
    "plt.boxplot(cardio_data.age)"
   ]
  },
  {
   "cell_type": "code",
   "execution_count": 5,
   "metadata": {},
   "outputs": [
    {
     "data": {
      "text/plain": [
       "{'boxes': [<matplotlib.lines.Line2D at 0x7fd7c5fd9c88>],\n",
       " 'caps': [<matplotlib.lines.Line2D at 0x7fd7c5fe06d8>,\n",
       "  <matplotlib.lines.Line2D at 0x7fd7c5fe0b00>],\n",
       " 'fliers': [<matplotlib.lines.Line2D at 0x7fd7c5fe5390>],\n",
       " 'means': [],\n",
       " 'medians': [<matplotlib.lines.Line2D at 0x7fd7c5fe0f28>],\n",
       " 'whiskers': [<matplotlib.lines.Line2D at 0x7fd7c5fd9dd8>,\n",
       "  <matplotlib.lines.Line2D at 0x7fd7c5fe02b0>]}"
      ]
     },
     "execution_count": 5,
     "metadata": {},
     "output_type": "execute_result"
    },
    {
     "data": {
      "image/png": "[encoded data removed]",
      "text/plain": [
       "<Figure size 432x288 with 1 Axes>"
      ]
     },
     "metadata": {},
     "output_type": "display_data"
    }
   ],
   "source": [
    "plt.boxplot(cardio_data.height)"
   ]
  },
  {
   "cell_type": "code",
   "execution_count": 6,
   "metadata": {},
   "outputs": [
    {
     "data": {
      "text/plain": [
       "{'boxes': [<matplotlib.lines.Line2D at 0x7fd7c5fa2278>],\n",
       " 'caps': [<matplotlib.lines.Line2D at 0x7fd7c5fa2c88>,\n",
       "  <matplotlib.lines.Line2D at 0x7fd7c5fa60f0>],\n",
       " 'fliers': [<matplotlib.lines.Line2D at 0x7fd7c5fa6940>],\n",
       " 'means': [],\n",
       " 'medians': [<matplotlib.lines.Line2D at 0x7fd7c5fa6518>],\n",
       " 'whiskers': [<matplotlib.lines.Line2D at 0x7fd7c5fa23c8>,\n",
       "  <matplotlib.lines.Line2D at 0x7fd7c5fa2860>]}"
      ]
     },
     "execution_count": 6,
     "metadata": {},
     "output_type": "execute_result"
    },
    {
     "data": {
      "image/png": "[encoded data removed]",
      "text/plain": [
       "<Figure size 432x288 with 1 Axes>"
      ]
     },
     "metadata": {},
     "output_type": "display_data"
    }
   ],
   "source": [
    "plt.boxplot(cardio_data.weight)"
   ]
  },
  {
   "cell_type": "code",
   "execution_count": 7,
   "metadata": {},
   "outputs": [
    {
     "data": {
      "text/plain": [
       "{'boxes': [<matplotlib.lines.Line2D at 0x7fd7c5f5e160>],\n",
       " 'caps': [<matplotlib.lines.Line2D at 0x7fd7c5f5eb70>,\n",
       "  <matplotlib.lines.Line2D at 0x7fd7c5f5ef98>],\n",
       " 'fliers': [<matplotlib.lines.Line2D at 0x7fd7c5f64828>],\n",
       " 'means': [],\n",
       " 'medians': [<matplotlib.lines.Line2D at 0x7fd7c5f64400>],\n",
       " 'whiskers': [<matplotlib.lines.Line2D at 0x7fd7c5f5e2b0>,\n",
       "  <matplotlib.lines.Line2D at 0x7fd7c5f5e748>]}"
      ]
     },
     "execution_count": 7,
     "metadata": {},
     "output_type": "execute_result"
    },
    {
     "data": {
      "image/png": "[encoded data removed]",
      "text/plain": [
       "<Figure size 432x288 with 1 Axes>"
      ]
     },
     "metadata": {},
     "output_type": "display_data"
    }
   ],
   "source": [
    "plt.boxplot(cardio_data.ap_hi)"
   ]
  },
  {
   "cell_type": "code",
   "execution_count": 8,
   "metadata": {},
   "outputs": [
    {
     "data": {
      "text/plain": [
       "{'boxes': [<matplotlib.lines.Line2D at 0x7fd7c5f15e10>],\n",
       " 'caps': [<matplotlib.lines.Line2D at 0x7fd7c5f1b860>,\n",
       "  <matplotlib.lines.Line2D at 0x7fd7c5f1bc88>],\n",
       " 'fliers': [<matplotlib.lines.Line2D at 0x7fd7c5f22518>],\n",
       " 'means': [],\n",
       " 'medians': [<matplotlib.lines.Line2D at 0x7fd7c5f220f0>],\n",
       " 'whiskers': [<matplotlib.lines.Line2D at 0x7fd7c5f15f60>,\n",
       "  <matplotlib.lines.Line2D at 0x7fd7c5f1b438>]}"
      ]
     },
     "execution_count": 8,
     "metadata": {},
     "output_type": "execute_result"
    },
    {
     "data": {
      "image/png": "[encoded data removed]",
      "text/plain": [
       "<Figure size 432x288 with 1 Axes>"
      ]
     },
     "metadata": {},
     "output_type": "display_data"
    }
   ],
   "source": [
    "plt.boxplot(cardio_data.ap_lo)"
   ]
  },
  {
   "cell_type": "code",
   "execution_count": 9,
   "metadata": {},
   "outputs": [
    {
     "data": {
      "text/plain": [
       "(68764, 12)"
      ]
     },
     "execution_count": 9,
     "metadata": {},
     "output_type": "execute_result"
    }
   ],
   "source": [
    "cardio_data = cardio_data.loc[cardio_data.ap_hi <= 220]\n",
    "cardio_data = cardio_data.loc[cardio_data.ap_hi >= 40]\n",
    "cardio_data = cardio_data.loc[cardio_data.ap_lo <= 220]\n",
    "cardio_data = cardio_data.loc[cardio_data.ap_lo >= 40]\n",
    "cardio_data.shape"
   ]
  },
  {
   "cell_type": "code",
   "execution_count": 10,
   "metadata": {},
   "outputs": [
    {
     "data": {
      "text/plain": [
       "{'boxes': [<matplotlib.lines.Line2D at 0x7fd7c5ecfba8>],\n",
       " 'caps': [<matplotlib.lines.Line2D at 0x7fd7c5ed35f8>,\n",
       "  <matplotlib.lines.Line2D at 0x7fd7c5ed3a20>],\n",
       " 'fliers': [<matplotlib.lines.Line2D at 0x7fd7c5ed92b0>],\n",
       " 'means': [],\n",
       " 'medians': [<matplotlib.lines.Line2D at 0x7fd7c5ed3e48>],\n",
       " 'whiskers': [<matplotlib.lines.Line2D at 0x7fd7c5ecfcf8>,\n",
       "  <matplotlib.lines.Line2D at 0x7fd7c5ed31d0>]}"
      ]
     },
     "execution_count": 10,
     "metadata": {},
     "output_type": "execute_result"
    },
    {
     "data": {
      "image/png": "[encoded data removed]",
      "text/plain": [
       "<Figure size 432x288 with 1 Axes>"
      ]
     },
     "metadata": {},
     "output_type": "display_data"
    }
   ],
   "source": [
    "plt.boxplot(cardio_data.ap_hi)"
   ]
  },
  {
   "cell_type": "code",
   "execution_count": 11,
   "metadata": {},
   "outputs": [
    {
     "data": {
      "text/plain": [
       "{'boxes': [<matplotlib.lines.Line2D at 0x7fd7c5e8a9b0>],\n",
       " 'caps': [<matplotlib.lines.Line2D at 0x7fd7c5e90400>,\n",
       "  <matplotlib.lines.Line2D at 0x7fd7c5e90828>],\n",
       " 'fliers': [<matplotlib.lines.Line2D at 0x7fd7c5e960b8>],\n",
       " 'means': [],\n",
       " 'medians': [<matplotlib.lines.Line2D at 0x7fd7c5e90c50>],\n",
       " 'whiskers': [<matplotlib.lines.Line2D at 0x7fd7c5e8ab00>,\n",
       "  <matplotlib.lines.Line2D at 0x7fd7c5e8af98>]}"
      ]
     },
     "execution_count": 11,
     "metadata": {},
     "output_type": "execute_result"
    },
    {
     "data": {
      "image/png": "[encoded data removed]",
      "text/plain": [
       "<Figure size 432x288 with 1 Axes>"
      ]
     },
     "metadata": {},
     "output_type": "display_data"
    }
   ],
   "source": [
    "plt.boxplot(cardio_data.ap_lo)"
   ]
  },
  {
   "cell_type": "code",
   "execution_count": null,
   "metadata": {},
   "outputs": [],
   "source": [
    "file_1_path = \"cardio_train_1.csv\"\n",
    "file_2_path = \"cardio_train_2.csv\"\n",
    "\n",
    "data_list = []\n",
    "with open('cardio_train_1.csv') as csv_file:\n",
    "    csv_reader = csv.reader(csv_file, delimiter=',')\n",
    "    next(csv_reader)\n",
    "    for row in csv_reader:\n",
    "        temp_row = row[0].split(';')\n",
    "        data_list.append(temp_row)\n",
    "with open('cardio_train_2.csv') as csv_file:\n",
    "    csv_reader = csv.reader(csv_file, delimiter=',')\n",
    "    for row in csv_reader:\n",
    "        temp_row = row[0].split(';')\n",
    "        data_list.append(temp_row)\n",
    "\n",
    "with open ('cardio_train_new.csv', mode='w', newline=\"\") as csv_file:\n",
    "    csv_writer = csv.writer(csv_file)\n",
    "    csv_writer.writerow(['id', 'age', 'gender', 'height', 'weight', 'ap_hi', 'ap_lo', 'cholesterol', 'gluc', 'smoke', 'alco', 'active', 'cardio'])\n",
    "    for row in data_list:\n",
    "        id = row[0]\n",
    "        age = row[1]\n",
    "        gender = row[2]\n",
    "        height = row[3]\n",
    "        weight = row[4]\n",
    "        ap_hi = row[5]\n",
    "        ap_lo = row[6]\n",
    "        cholesterol = row[7]\n",
    "        gluc = row[8]\n",
    "        smoke = row[9]\n",
    "        alco = row[10]\n",
    "        active = row[11]\n",
    "        cardio = row[12]\n",
    "        csv_writer.writerow([id, age, gender, height, weight, ap_hi, ap_lo, cholesterol, gluc, smoke, alco, active, cardio])\n"
   ]
  },
  {
   "cell_type": "code",
   "execution_count": 12,
   "metadata": {},
   "outputs": [],
   "source": [
    "cardio_data.gender= cardio_data.gender.astype('category')\n",
    "cardio_data.height = cardio_data.height.astype('float64')\n",
    "cardio_data.ap_hi = cardio_data.ap_hi.astype('float64')\n",
    "cardio_data.ap_lo = cardio_data.ap_lo.astype('float64')\n",
    "cardio_data.cholesterol = cardio_data.cholesterol.astype('category')\n",
    "cardio_data.gluc = cardio_data.gluc.astype('category')\n",
    "cardio_data.smoke = cardio_data.smoke.astype('bool')\n",
    "cardio_data.alco = cardio_data.alco.astype('bool')\n",
    "cardio_data.active = cardio_data.active.astype('bool')\n",
    "cardio_data.cardio = cardio_data.cardio.astype('bool')"
   ]
  },
  {
   "cell_type": "code",
   "execution_count": 13,
   "metadata": {},
   "outputs": [
    {
     "data": {
      "text/plain": [
       "age             float64\n",
       "gender         category\n",
       "height          float64\n",
       "weight          float64\n",
       "ap_hi           float64\n",
       "ap_lo           float64\n",
       "cholesterol    category\n",
       "gluc           category\n",
       "smoke              bool\n",
       "alco               bool\n",
       "active             bool\n",
       "cardio             bool\n",
       "dtype: object"
      ]
     },
     "execution_count": 13,
     "metadata": {},
     "output_type": "execute_result"
    }
   ],
   "source": [
    "cardio_data.dtypes"
   ]
  }
 ],
 "metadata": {
  "kernelspec": {
   "display_name": "Python 3",
   "language": "python",
   "name": "python3"
  },
  "language_info": {
   "codemirror_mode": {
    "name": "ipython",
    "version": 3
   },
   "file_extension": ".py",
   "mimetype": "text/x-python",
   "name": "python",
   "nbconvert_exporter": "python",
   "pygments_lexer": "ipython3",
   "version": "3.5.2"
  }
 },
 "nbformat": 4,
 "nbformat_minor": 2
}
