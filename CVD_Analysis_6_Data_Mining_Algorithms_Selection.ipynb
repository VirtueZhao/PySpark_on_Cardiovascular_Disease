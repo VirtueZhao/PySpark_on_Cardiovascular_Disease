{
 "cells": [
  {
   "cell_type": "code",
   "execution_count": 1,
   "metadata": {},
   "outputs": [],
   "source": [
    "# Must be included at the beginning of each new notebook. Remember to change the app name.\n",
    "import findspark\n",
    "findspark.init('/home/ubuntu/spark-2.1.1-bin-hadoop2.7')\n",
    "import pyspark\n",
    "from pyspark.sql import *\n",
    "spark = SparkSession.builder.appName('Model_Parameters_Chosen').getOrCreate()"
   ]
  },
  {
   "cell_type": "code",
   "execution_count": 2,
   "metadata": {},
   "outputs": [],
   "source": [
    "from pyspark.ml.classification import LogisticRegression\n",
    "from pyspark.ml.classification import DecisionTreeClassifier\n",
    "from pyspark.ml.classification import RandomForestClassifier"
   ]
  },
  {
   "cell_type": "code",
   "execution_count": 7,
   "metadata": {},
   "outputs": [],
   "source": [
    "Logistic_model_1 = LogisticRegression(regParam=0, maxIter=100, labelCol='cardio')\n",
    "Logistic_model_2 = LogisticRegression(regParam=1, maxIter=100, labelCol='cardio')\n",
    "Logistic_model_3 = LogisticRegression(regParam=0, maxIter=200, labelCol='cardio')"
   ]
  },
  {
   "cell_type": "code",
   "execution_count": 9,
   "metadata": {},
   "outputs": [],
   "source": [
    "decision_tree_model_1 = DecisionTreeClassifier(impurity='gini', labelCol='cardio')\n",
    "decision_tree_model_2 = DecisionTreeClassifier(impurity='entropy', labelCol='cardio')"
   ]
  },
  {
   "cell_type": "code",
   "execution_count": 10,
   "metadata": {},
   "outputs": [],
   "source": [
    "random_forest_model_1 = RandomForestClassifier(numTrees=5, impurity='gini', labelCol='cardio')\n",
    "random_forest_model_2 = RandomForestClassifier(numTrees=10, impurity='gini', labelCol='cardio')\n",
    "random_forest_model_3 = RandomForestClassifier(numTrees=5, impurity='entropy', labelCol='cardio')"
   ]
  }
 ],
 "metadata": {
  "kernelspec": {
   "display_name": "Python 3",
   "language": "python",
   "name": "python3"
  },
  "language_info": {
   "codemirror_mode": {
    "name": "ipython",
    "version": 3
   },
   "file_extension": ".py",
   "mimetype": "text/x-python",
   "name": "python",
   "nbconvert_exporter": "python",
   "pygments_lexer": "ipython3",
   "version": "3.5.2"
  }
 },
 "nbformat": 4,
 "nbformat_minor": 2
}
